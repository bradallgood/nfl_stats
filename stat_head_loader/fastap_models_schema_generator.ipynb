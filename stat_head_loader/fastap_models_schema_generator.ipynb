{
 "cells": [
  {
   "cell_type": "code",
   "execution_count": 1,
   "id": "e6b31f32",
   "metadata": {},
   "outputs": [],
   "source": [
    "import pandas as pd\n",
    "import numpy as np\n",
    "import matplotlib.pyplot as plt\n",
    "from unicodedata import normalize\n",
    "import psycopg2\n",
    "from sqlalchemy import create_engine\n",
    "import os"
   ]
  },
  {
   "cell_type": "code",
   "execution_count": 2,
   "id": "b8ed4e9f",
   "metadata": {},
   "outputs": [],
   "source": [
    "conn = psycopg2.connect(\n",
    "    host=\"localhost\",\n",
    "    database=\"nfl_stats\",\n",
    "    user=\"brada\",\n",
    "    password=\"Feasant1\")"
   ]
  },
  {
   "cell_type": "code",
   "execution_count": 3,
   "id": "294987b4",
   "metadata": {},
   "outputs": [],
   "source": [
    "cur = conn.cursor()"
   ]
  },
  {
   "cell_type": "code",
   "execution_count": 4,
   "id": "c46e2dcb",
   "metadata": {},
   "outputs": [],
   "source": [
    "cur.execute(\"select table_name, column_name, data_type from information_schema.columns where table_name = 'passing';\")"
   ]
  },
  {
   "cell_type": "code",
   "execution_count": 5,
   "id": "5353ea17",
   "metadata": {},
   "outputs": [],
   "source": [
    "desc_table = cur.fetchall()"
   ]
  },
  {
   "cell_type": "code",
   "execution_count": 6,
   "id": "793cbcf5",
   "metadata": {},
   "outputs": [
    {
     "data": {
      "text/plain": [
       "[('passing', 'index', 'bigint'),\n",
       " ('passing', 'Rk', 'bigint'),\n",
       " ('passing', 'Pick6', 'bigint'),\n",
       " ('passing', 'TD_Per', 'double precision'),\n",
       " ('passing', 'Int_Per', 'double precision'),\n",
       " ('passing', 'Sk', 'bigint'),\n",
       " ('passing', 'Sk_Per', 'double precision'),\n",
       " ('passing', 'Yds_Att', 'double precision'),\n",
       " ('passing', 'Adj_Yds_Att', 'double precision'),\n",
       " ('passing', 'Adj_Net_Yds_Att', 'double precision'),\n",
       " ('passing', 'Yds_Per_Comp', 'double precision'),\n",
       " ('passing', 'Year', 'bigint'),\n",
       " ('passing', 'Rate', 'double precision'),\n",
       " ('passing', 'Att', 'bigint'),\n",
       " ('passing', 'Game', 'bigint'),\n",
       " ('passing', 'Week', 'bigint'),\n",
       " ('passing', 'Date', 'timestamp without time zone'),\n",
       " ('passing', 'Age', 'bigint'),\n",
       " ('passing', 'Cmp', 'bigint'),\n",
       " ('passing', 'Inc', 'bigint'),\n",
       " ('passing', 'Comp_Per', 'double precision'),\n",
       " ('passing', 'Yds', 'bigint'),\n",
       " ('passing', 'TD', 'bigint'),\n",
       " ('passing', 'Int', 'bigint'),\n",
       " ('passing', 'Player', 'text'),\n",
       " ('passing', 'Opp', 'text'),\n",
       " ('passing', 'Result', 'text'),\n",
       " ('passing', 'Day', 'text'),\n",
       " ('passing', 'Win_Loss', 'text'),\n",
       " ('passing', 'Score', 'text'),\n",
       " ('passing', 'Pkcol', 'text'),\n",
       " ('passing', 'Pos', 'text'),\n",
       " ('passing', 'Team', 'text'),\n",
       " ('passing', 'Home_Away', 'text')]"
      ]
     },
     "execution_count": 6,
     "metadata": {},
     "output_type": "execute_result"
    }
   ],
   "source": [
    "desc_table"
   ]
  },
  {
   "cell_type": "code",
   "execution_count": 7,
   "id": "814626c4",
   "metadata": {},
   "outputs": [
    {
     "name": "stdout",
     "output_type": "stream",
     "text": [
      "index = Column(Integer)\n",
      "Rk = Column(Integer)\n",
      "Pick6 = Column(Integer)\n",
      "TD_Per = Column(Float)\n",
      "Int_Per = Column(Float)\n",
      "Sk = Column(Integer)\n",
      "Sk_Per = Column(Float)\n",
      "Yds_Att = Column(Float)\n",
      "Adj_Yds_Att = Column(Float)\n",
      "Adj_Net_Yds_Att = Column(Float)\n",
      "Yds_Per_Comp = Column(Float)\n",
      "Year = Column(Integer)\n",
      "Rate = Column(Float)\n",
      "Att = Column(Integer)\n",
      "Game = Column(Integer)\n",
      "Week = Column(Integer)\n",
      "Date = Column(Date)\n",
      "Age = Column(Integer)\n",
      "Cmp = Column(Integer)\n",
      "Inc = Column(Integer)\n",
      "Comp_Per = Column(Float)\n",
      "Yds = Column(Integer)\n",
      "TD = Column(Integer)\n",
      "Int = Column(Integer)\n",
      "Player = Column(String)\n",
      "Opp = Column(String)\n",
      "Result = Column(String)\n",
      "Day = Column(String)\n",
      "Win_Loss = Column(String)\n",
      "Score = Column(String)\n",
      "Pkcol = Column(String)\n",
      "Pos = Column(String)\n",
      "Team = Column(String)\n",
      "Home_Away = Column(String)\n"
     ]
    }
   ],
   "source": [
    "i=1\n",
    "for row in desc_table:\n",
    "    if row[2] == 'bigint':\n",
    "        dt = 'Integer'\n",
    "    elif row[2] == 'text':\n",
    "        dt = 'String'\n",
    "    elif row[2] ==  'double precision':\n",
    "        dt = 'Float'\n",
    "    elif row[2] == 'timestamp without time zone':\n",
    "        dt = \"Date\"\n",
    "    print(f'{row[1]} = Column({dt})')\n",
    "    i += 1"
   ]
  },
  {
   "cell_type": "code",
   "execution_count": 11,
   "id": "825166e3",
   "metadata": {},
   "outputs": [],
   "source": [
    "cur.execute(\"select table_name, column_name, data_type from information_schema.columns where table_name = 'rushing';\")"
   ]
  },
  {
   "cell_type": "code",
   "execution_count": 12,
   "id": "c354b695",
   "metadata": {},
   "outputs": [],
   "source": [
    "desc_table = cur.fetchall()\n"
   ]
  },
  {
   "cell_type": "code",
   "execution_count": 13,
   "id": "f34309d2",
   "metadata": {},
   "outputs": [
    {
     "name": "stdout",
     "output_type": "stream",
     "text": [
      "Rk = Column(Integer)\n",
      "Game = Column(Integer)\n",
      "Yds_Att = Column(Float)\n",
      "TD = Column(Integer)\n",
      "First_Dwns = Column(Integer)\n",
      "Week = Column(Integer)\n",
      "Date = Column(Date)\n",
      "Age = Column(Integer)\n",
      "Year = Column(Integer)\n",
      "index = Column(Integer)\n",
      "Yds = Column(Integer)\n",
      "Att = Column(Integer)\n",
      "Pkcol = Column(String)\n",
      "Player = Column(String)\n",
      "Day = Column(String)\n",
      "Team = Column(String)\n",
      "Home_Away = Column(String)\n",
      "Opp = Column(String)\n",
      "Result = Column(String)\n",
      "Pos = Column(String)\n",
      "Win_Loss = Column(String)\n",
      "Score = Column(String)\n"
     ]
    }
   ],
   "source": [
    "i=1\n",
    "for row in desc_table:\n",
    "    if row[2] == 'bigint':\n",
    "        dt = 'Integer'\n",
    "    elif row[2] == 'text':\n",
    "        dt = 'String'\n",
    "    elif row[2] ==  'double precision':\n",
    "        dt = 'Float'\n",
    "    elif row[2] == 'timestamp without time zone':\n",
    "        dt = \"Date\"\n",
    "    print(f'{row[1]} = Column({dt})')\n",
    "    i += 1"
   ]
  },
  {
   "cell_type": "code",
   "execution_count": 16,
   "id": "4fc6087d",
   "metadata": {
    "scrolled": true
   },
   "outputs": [
    {
     "name": "stdout",
     "output_type": "stream",
     "text": [
      "Yds_Rec = Column(Float)\n",
      "TD = Column(Integer)\n",
      "Ctch_Per = Column(Float)\n",
      "Yds_Tgt = Column(Float)\n",
      "First_Dwns = Column(Integer)\n",
      "Week = Column(Integer)\n",
      "Date = Column(Date)\n",
      "Age = Column(Integer)\n",
      "Year = Column(Integer)\n",
      "index = Column(Integer)\n",
      "Yds = Column(Integer)\n",
      "Tgt = Column(Integer)\n",
      "Rk = Column(Integer)\n",
      "Game = Column(Integer)\n",
      "Rec = Column(Integer)\n",
      "Pkcol = Column(String)\n",
      "Player = Column(String)\n",
      "Day = Column(String)\n",
      "Team = Column(String)\n",
      "Home_Away = Column(String)\n",
      "Opp = Column(String)\n",
      "Result = Column(String)\n",
      "Pos = Column(String)\n",
      "Win_Loss = Column(String)\n",
      "Score = Column(String)\n"
     ]
    }
   ],
   "source": [
    "cur.execute(\"select table_name, column_name, data_type from information_schema.columns where table_name = 'receiving';\")\n",
    "\n",
    "desc_table = cur.fetchall()\n",
    "\n",
    "i=1\n",
    "for row in desc_table:\n",
    "    if row[2] == 'bigint':\n",
    "        dt = 'Integer'\n",
    "    elif row[2] == 'text':\n",
    "        dt = 'String'\n",
    "    elif row[2] ==  'double precision':\n",
    "        dt = 'Float'\n",
    "    elif row[2] == 'timestamp without time zone':\n",
    "        dt = \"Date\"\n",
    "    print(f'{row[1]} = Column({dt})')\n",
    "    i += 1"
   ]
  },
  {
   "cell_type": "code",
   "execution_count": 17,
   "id": "15eb5428",
   "metadata": {},
   "outputs": [
    {
     "name": "stdout",
     "output_type": "stream",
     "text": [
      "Rk: int\n",
      "Game: int\n",
      "Yds_Att: float\n",
      "TD: int\n",
      "First_Dwns: int\n",
      "Week: int\n",
      "Date: date\n",
      "Age: int\n",
      "Year: int\n",
      "index: int\n",
      "Yds: int\n",
      "Att: int\n",
      "Pkcol: str\n",
      "Player: str\n",
      "Day: str\n",
      "Team: str\n",
      "Home_Away: str\n",
      "Opp: str\n",
      "Result: str\n",
      "Pos: str\n",
      "Win_Loss: str\n",
      "Score: str\n"
     ]
    }
   ],
   "source": [
    "cur.execute(\"select table_name, column_name, data_type from information_schema.columns where table_name = 'rushing';\")\n",
    "\n",
    "desc_table = cur.fetchall()\n",
    "\n",
    "i=1\n",
    "for row in desc_table:\n",
    "    if row[2] == 'bigint':\n",
    "        dt = 'int'\n",
    "    elif row[2] == 'text':\n",
    "        dt = 'str'\n",
    "    elif row[2] ==  'double precision':\n",
    "        dt = 'float'\n",
    "    elif row[2] == 'timestamp without time zone':\n",
    "        dt = \"date\"\n",
    "    print(f'{row[1]}: {dt}')\n",
    "    i += 1"
   ]
  },
  {
   "cell_type": "code",
   "execution_count": 18,
   "id": "a8b57b57",
   "metadata": {},
   "outputs": [
    {
     "name": "stdout",
     "output_type": "stream",
     "text": [
      "index: int\n",
      "Rk: int\n",
      "Pick6: int\n",
      "TD_Per: float\n",
      "Int_Per: float\n",
      "Sk: int\n",
      "Sk_Per: float\n",
      "Yds_Att: float\n",
      "Adj_Yds_Att: float\n",
      "Adj_Net_Yds_Att: float\n",
      "Yds_Per_Comp: float\n",
      "Year: int\n",
      "Rate: float\n",
      "Att: int\n",
      "Game: int\n",
      "Week: int\n",
      "Date: date\n",
      "Age: int\n",
      "Cmp: int\n",
      "Inc: int\n",
      "Comp_Per: float\n",
      "Yds: int\n",
      "TD: int\n",
      "Int: int\n",
      "Player: str\n",
      "Opp: str\n",
      "Result: str\n",
      "Day: str\n",
      "Win_Loss: str\n",
      "Score: str\n",
      "Pkcol: str\n",
      "Pos: str\n",
      "Team: str\n",
      "Home_Away: str\n"
     ]
    }
   ],
   "source": [
    "cur.execute(\"select table_name, column_name, data_type from information_schema.columns where table_name = 'passing';\")\n",
    "\n",
    "desc_table = cur.fetchall()\n",
    "\n",
    "i=1\n",
    "for row in desc_table:\n",
    "    if row[2] == 'bigint':\n",
    "        dt = 'int'\n",
    "    elif row[2] == 'text':\n",
    "        dt = 'str'\n",
    "    elif row[2] ==  'double precision':\n",
    "        dt = 'float'\n",
    "    elif row[2] == 'timestamp without time zone':\n",
    "        dt = \"date\"\n",
    "    print(f'{row[1]}: {dt}')\n",
    "    i += 1"
   ]
  },
  {
   "cell_type": "code",
   "execution_count": 19,
   "id": "4a6b7f67",
   "metadata": {},
   "outputs": [
    {
     "name": "stdout",
     "output_type": "stream",
     "text": [
      "Yds_Rec: float\n",
      "TD: int\n",
      "Ctch_Per: float\n",
      "Yds_Tgt: float\n",
      "First_Dwns: int\n",
      "Week: int\n",
      "Date: date\n",
      "Age: int\n",
      "Year: int\n",
      "index: int\n",
      "Yds: int\n",
      "Tgt: int\n",
      "Rk: int\n",
      "Game: int\n",
      "Rec: int\n",
      "Pkcol: str\n",
      "Player: str\n",
      "Day: str\n",
      "Team: str\n",
      "Home_Away: str\n",
      "Opp: str\n",
      "Result: str\n",
      "Pos: str\n",
      "Win_Loss: str\n",
      "Score: str\n"
     ]
    }
   ],
   "source": [
    "cur.execute(\"select table_name, column_name, data_type from information_schema.columns where table_name = 'receiving';\")\n",
    "\n",
    "desc_table = cur.fetchall()\n",
    "\n",
    "i=1\n",
    "for row in desc_table:\n",
    "    if row[2] == 'bigint':\n",
    "        dt = 'int'\n",
    "    elif row[2] == 'text':\n",
    "        dt = 'str'\n",
    "    elif row[2] ==  'double precision':\n",
    "        dt = 'float'\n",
    "    elif row[2] == 'timestamp without time zone':\n",
    "        dt = \"date\"\n",
    "    print(f'{row[1]}: {dt}')\n",
    "    i += 1"
   ]
  },
  {
   "cell_type": "code",
   "execution_count": null,
   "id": "a2c8eebc",
   "metadata": {},
   "outputs": [],
   "source": []
  }
 ],
 "metadata": {
  "kernelspec": {
   "display_name": "Python 3 (ipykernel)",
   "language": "python",
   "name": "python3"
  },
  "language_info": {
   "codemirror_mode": {
    "name": "ipython",
    "version": 3
   },
   "file_extension": ".py",
   "mimetype": "text/x-python",
   "name": "python",
   "nbconvert_exporter": "python",
   "pygments_lexer": "ipython3",
   "version": "3.11.3"
  }
 },
 "nbformat": 4,
 "nbformat_minor": 5
}
